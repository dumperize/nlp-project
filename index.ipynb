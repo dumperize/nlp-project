{
 "cells": [
  {
   "cell_type": "code",
   "execution_count": 6,
   "id": "f255ce1f",
   "metadata": {},
   "outputs": [],
   "source": [
    "import pandas as pd\n",
    "\n",
    "from approaches.lead_3.index import calc_lead_n_score\n",
    "from approaches.calc_scores import calc_scores"
   ]
  },
  {
   "cell_type": "code",
   "execution_count": 12,
   "id": "715dc26d",
   "metadata": {},
   "outputs": [],
   "source": [
    "df = pd.read_excel(\"dataset/data.xlsx\")"
   ]
  },
  {
   "cell_type": "code",
   "execution_count": 14,
   "id": "bb2d8e6a",
   "metadata": {},
   "outputs": [],
   "source": [
    "origns, predictions = calc_lead_n_score(df)"
   ]
  },
  {
   "cell_type": "code",
   "execution_count": 16,
   "id": "1d60e089",
   "metadata": {},
   "outputs": [
    {
     "name": "stdout",
     "output_type": "stream",
     "text": [
      "BLUE: 0.31362746960636945\n",
      "BLUE: {'rouge-1': {'f': 0.2077347122006941, 'p': 0.24981168796289746, 'r': 0.1986910760396598}, 'rouge-2': {'f': 0.06626647498790385, 'p': 0.08368343360183779, 'r': 0.05877403468799665}, 'rouge-l': {'f': 0.18233098483425544, 'p': 0.22269522918153853, 'r': 0.16761168259073755}}\n"
     ]
    }
   ],
   "source": [
    "calc_scores(origns, predictions)"
   ]
  },
  {
   "cell_type": "code",
   "execution_count": null,
   "id": "b3233f9d",
   "metadata": {},
   "outputs": [],
   "source": []
  }
 ],
 "metadata": {
  "kernelspec": {
   "display_name": "Python 3 (ipykernel)",
   "language": "python",
   "name": "python3"
  },
  "language_info": {
   "codemirror_mode": {
    "name": "ipython",
    "version": 3
   },
   "file_extension": ".py",
   "mimetype": "text/x-python",
   "name": "python",
   "nbconvert_exporter": "python",
   "pygments_lexer": "ipython3",
   "version": "3.10.0"
  }
 },
 "nbformat": 4,
 "nbformat_minor": 5
}

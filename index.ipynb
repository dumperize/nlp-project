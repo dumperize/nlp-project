{
 "cells": [
  {
   "cell_type": "code",
   "execution_count": 39,
   "id": "1ed7ccf1",
   "metadata": {},
   "outputs": [],
   "source": [
    "import pandas as pd\n",
    "\n",
    "from approaches.calc_scores import calc_scores\n",
    "from approaches.lead_3.index import calc_lead_n_score\n",
    "from approaches.text_rank.index import calc_text_rank_score\n",
    "from approaches.summa_lib.index import calc_summa_score"
   ]
  },
  {
   "cell_type": "code",
   "execution_count": 40,
   "id": "6d3d2c64",
   "metadata": {},
   "outputs": [],
   "source": [
    "df = pd.read_excel(\"dataset/data.xlsx\")"
   ]
  },
  {
   "cell_type": "code",
   "execution_count": 41,
   "id": "19cf803e",
   "metadata": {},
   "outputs": [],
   "source": [
    "origns, predictions = calc_lead_n_score(df)"
   ]
  },
  {
   "cell_type": "code",
   "execution_count": 42,
   "id": "f81d3a03",
   "metadata": {},
   "outputs": [
    {
     "name": "stdout",
     "output_type": "stream",
     "text": [
      "BLUE: 0.31203315542288906\n",
      "ROUGE - 1: {'f': 0.2086228255019541, 'p': 0.25109372760144694, 'r': 0.19870031403569544}\n",
      "ROUGE - 2: {'f': 0.06660583950391354, 'p': 0.08416385503760339, 'r': 0.05892520436315326}\n",
      "ROUGE - L: {'f': 0.18299692941957735, 'p': 0.22367388052832443, 'r': 0.16772594349036082}\n"
     ]
    }
   ],
   "source": [
    "calc_scores(origns, predictions)"
   ]
  },
  {
   "cell_type": "code",
   "execution_count": 43,
   "id": "71703bf5",
   "metadata": {},
   "outputs": [],
   "source": [
    "origns, predictions = calc_text_rank_score(df)"
   ]
  },
  {
   "cell_type": "code",
   "execution_count": 44,
   "id": "d4993342",
   "metadata": {},
   "outputs": [
    {
     "name": "stdout",
     "output_type": "stream",
     "text": [
      "BLUE: 0.20519214152890847\n",
      "ROUGE - 1: {'f': 0.17485096539894746, 'p': 0.147006579171676, 'r': 0.30592054616593156}\n",
      "ROUGE - 2: {'f': 0.02775988620853581, 'p': 0.024725205480433027, 'r': 0.04526001782864679}\n",
      "ROUGE - L: {'f': 0.15680417284733014, 'p': 0.14007249149400117, 'r': 0.22301909118415855}\n"
     ]
    }
   ],
   "source": [
    "calc_scores(origns, predictions)"
   ]
  },
  {
   "cell_type": "code",
   "execution_count": 45,
   "id": "9d6ba7f3",
   "metadata": {},
   "outputs": [],
   "source": [
    "origns, predictions = calc_summa_score(df)"
   ]
  },
  {
   "cell_type": "code",
   "execution_count": 46,
   "id": "b67dbd35",
   "metadata": {},
   "outputs": [
    {
     "name": "stdout",
     "output_type": "stream",
     "text": [
      "BLUE: 0.14169259247353405\n",
      "ROUGE - 1: {'f': 0.16206680921945404, 'p': 0.12372689317641292, 'r': 0.38248394906804906}\n",
      "ROUGE - 2: {'f': 0.03139507112995909, 'p': 0.025196375220548906, 'r': 0.0686452209589913}\n",
      "ROUGE - L: {'f': 0.15416463519497184, 'p': 0.1217104124951781, 'r': 0.2898730113947567}\n"
     ]
    }
   ],
   "source": [
    "calc_scores(origns, predictions)"
   ]
  },
  {
   "cell_type": "code",
   "execution_count": null,
   "id": "3f3405c6",
   "metadata": {},
   "outputs": [],
   "source": []
  },
  {
   "cell_type": "code",
   "execution_count": null,
   "id": "5165d3d9",
   "metadata": {},
   "outputs": [],
   "source": []
  }
 ],
 "metadata": {
  "kernelspec": {
   "display_name": "Python 3 (ipykernel)",
   "language": "python",
   "name": "python3"
  },
  "language_info": {
   "codemirror_mode": {
    "name": "ipython",
    "version": 3
   },
   "file_extension": ".py",
   "mimetype": "text/x-python",
   "name": "python",
   "nbconvert_exporter": "python",
   "pygments_lexer": "ipython3",
   "version": "3.10.0"
  }
 },
 "nbformat": 4,
 "nbformat_minor": 5
}
